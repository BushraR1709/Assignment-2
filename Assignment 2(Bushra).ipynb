{
 "cells": [
  {
   "cell_type": "markdown",
   "id": "bddf3807-5c6c-48b6-81d4-4ea737e0a589",
   "metadata": {},
   "source": [
    "Q1. How do you comment code in Python? What are the different types of comments?\n"
   ]
  },
  {
   "cell_type": "code",
   "execution_count": 1,
   "id": "ddf2a0a9-c6ff-4c28-8927-234cbd5f76b5",
   "metadata": {},
   "outputs": [
    {
     "data": {
      "text/plain": [
       "'And this comment is \\nunder double quotes.'"
      ]
     },
     "execution_count": 1,
     "metadata": {},
     "output_type": "execute_result"
    }
   ],
   "source": [
    "#We use (#)hash character to comment code in python as well as triple quotes i.e., either single or double.\n",
    "#This is single line comment using (#) hash character.\n",
    "'''This comment is \n",
    "under single quotes.'''\n",
    "\n",
    "\"\"\"And this comment is \n",
    "under double quotes.\"\"\"\n"
   ]
  },
  {
   "cell_type": "markdown",
   "id": "0bf1e3d0-4a57-4105-8187-f27ace5fcc74",
   "metadata": {},
   "source": [
    "Q2. What are variables in Python? How do you declare and assign values to variables?"
   ]
  },
  {
   "cell_type": "code",
   "execution_count": 2,
   "id": "977627cc-4f47-4b4c-8329-b375f3a076ef",
   "metadata": {},
   "outputs": [],
   "source": [
    "#Variables are nothing but a storage where we store our data.\n",
    "#Python declares a variable whenever we assign a value to the variable.\n",
    "#We simply use the equal sign = as an assignment operator to assign values to variables.\n",
    "#My_name='Bushra Rahman'\n",
    "#Enrolled_course=\"Data Science Masters 2.0\"\n"
   ]
  },
  {
   "cell_type": "markdown",
   "id": "b70aa2b7-7d4d-4c90-af03-5c6952fb9b81",
   "metadata": {},
   "source": [
    "Q3. How do you convert one data type to another in Python?"
   ]
  },
  {
   "cell_type": "code",
   "execution_count": 8,
   "id": "050c01df-d77b-418b-a4da-0db4528a238b",
   "metadata": {},
   "outputs": [
    {
     "data": {
      "text/plain": [
       "int"
      ]
     },
     "execution_count": 8,
     "metadata": {},
     "output_type": "execute_result"
    }
   ],
   "source": [
    "#Converting one data type to another is called Typecasting.\n",
    "data=1\n",
    "type(data)\n"
   ]
  },
  {
   "cell_type": "code",
   "execution_count": 11,
   "id": "9a91c57f-b0e8-42aa-89b5-c20508dca34c",
   "metadata": {},
   "outputs": [
    {
     "data": {
      "text/plain": [
       "str"
      ]
     },
     "execution_count": 11,
     "metadata": {},
     "output_type": "execute_result"
    }
   ],
   "source": [
    "new_data=str(data)\n",
    "type(new_data)\n"
   ]
  },
  {
   "cell_type": "code",
   "execution_count": 12,
   "id": "6db0243f-59fe-4552-bbb0-ab0137b3ca64",
   "metadata": {},
   "outputs": [
    {
     "data": {
      "text/plain": [
       "'1'"
      ]
     },
     "execution_count": 12,
     "metadata": {},
     "output_type": "execute_result"
    }
   ],
   "source": [
    "new_data"
   ]
  },
  {
   "cell_type": "markdown",
   "id": "0b234a1b-d38f-46c7-a342-78771a24f1e8",
   "metadata": {},
   "source": [
    "Q4. How do you write and execute a Python script from the command line?"
   ]
  },
  {
   "cell_type": "code",
   "execution_count": 1,
   "id": "8ba41812-4381-4078-85d5-efa3bf337b67",
   "metadata": {},
   "outputs": [],
   "source": [
    "#open a command line and then change the directory using'cd ' to your current file then run the command as\n",
    "#Python filename.py Hello World! Then you hit the ENTER button from the keyboard, and that's it."
   ]
  },
  {
   "cell_type": "markdown",
   "id": "a0337d24-c319-42fb-b828-c67c1ecb4202",
   "metadata": {},
   "source": [
    "Q5. Given a list my_list = [1, 2, 3, 4, 5], write the code to slice the list and obtain the sub-list [2, 3]."
   ]
  },
  {
   "cell_type": "code",
   "execution_count": 13,
   "id": "e5ce1525-8563-46c6-b82b-8a2387b84ddb",
   "metadata": {},
   "outputs": [
    {
     "data": {
      "text/plain": [
       "[2, 3]"
      ]
     },
     "execution_count": 13,
     "metadata": {},
     "output_type": "execute_result"
    }
   ],
   "source": [
    "my_list=[1,2,3,4,5]\n",
    "my_list[1:3]"
   ]
  },
  {
   "cell_type": "markdown",
   "id": "2628fc61-67e2-4122-843a-e6edf69940e3",
   "metadata": {},
   "source": [
    "Q6. What is a complex number in mathematics, and how is it represented in Python?"
   ]
  },
  {
   "cell_type": "code",
   "execution_count": 14,
   "id": "9248fe63-3712-45aa-9167-495a4afc433c",
   "metadata": {},
   "outputs": [
    {
     "data": {
      "text/plain": [
       "complex"
      ]
     },
     "execution_count": 14,
     "metadata": {},
     "output_type": "execute_result"
    }
   ],
   "source": [
    "#A number form by the combination of both real number as well as imaginary number is called complex number.\n",
    "#In python, we can put ‘j’ or ‘J’ after a number to make it imaginary, so we can write complex numbers easily\n",
    "num=(12+5j)\n",
    "type(num)\n"
   ]
  },
  {
   "cell_type": "markdown",
   "id": "8dad05bf-cbfc-45e0-910a-dfb5a39e78de",
   "metadata": {},
   "source": [
    "Q7. What is the correct way to declare a variable named age and assign the value 25 to it?\n"
   ]
  },
  {
   "cell_type": "code",
   "execution_count": 18,
   "id": "b7473eb6-7e8a-4011-808a-66f4d16931ad",
   "metadata": {},
   "outputs": [],
   "source": [
    "age = 25"
   ]
  },
  {
   "cell_type": "markdown",
   "id": "16313620-9a1e-4309-b84f-85c1ebe15cf9",
   "metadata": {},
   "source": [
    "Q8. Declare a variable named price and assign the value 9.99 to it. What data type does this variable \n",
    "belong to?"
   ]
  },
  {
   "cell_type": "code",
   "execution_count": 1,
   "id": "7bae44c2-0c15-413d-a9f7-8fb8d51c852f",
   "metadata": {},
   "outputs": [
    {
     "data": {
      "text/plain": [
       "float"
      ]
     },
     "execution_count": 1,
     "metadata": {},
     "output_type": "execute_result"
    }
   ],
   "source": [
    "price = 9.99\n",
    "type(price)"
   ]
  },
  {
   "cell_type": "markdown",
   "id": "bae1d737-afcf-42ce-b9be-18f0c5cdc956",
   "metadata": {},
   "source": [
    "Q9. Create a variable named name and assign your full name to it as a string. How would you print the \n",
    "value of this variable?"
   ]
  },
  {
   "cell_type": "code",
   "execution_count": 2,
   "id": "30c8fc1c-a223-4d4a-8903-2fe09c0c8577",
   "metadata": {},
   "outputs": [
    {
     "data": {
      "text/plain": [
       "'Bushra Rahman'"
      ]
     },
     "execution_count": 2,
     "metadata": {},
     "output_type": "execute_result"
    }
   ],
   "source": [
    "name = \"Bushra Rahman\"\n",
    "name"
   ]
  },
  {
   "cell_type": "markdown",
   "id": "4b25f4ba-d906-43c1-b96c-21bf98083826",
   "metadata": {},
   "source": [
    "Q10. Given the string \"Hello, World!\", extract the substring \"World\""
   ]
  },
  {
   "cell_type": "code",
   "execution_count": 5,
   "id": "74f0bf71-8c83-4260-8d8d-29d2361713ab",
   "metadata": {},
   "outputs": [
    {
     "data": {
      "text/plain": [
       "' World'"
      ]
     },
     "execution_count": 5,
     "metadata": {},
     "output_type": "execute_result"
    }
   ],
   "source": [
    "given = \"Hello, World!\"\n",
    "given[6:12]"
   ]
  },
  {
   "cell_type": "markdown",
   "id": "6cc95ff7-ee32-41b1-a671-a1c0aa29f09f",
   "metadata": {},
   "source": [
    "Q11. Create a variable named \"is_student\" and assign it a boolean value indicating whether you are \n",
    "currently a student or not"
   ]
  },
  {
   "cell_type": "code",
   "execution_count": null,
   "id": "85d5ce4f-6689-4fcf-b377-101b1aa27a31",
   "metadata": {},
   "outputs": [],
   "source": [
    "is_student = True"
   ]
  }
 ],
 "metadata": {
  "kernelspec": {
   "display_name": "Python 3 (ipykernel)",
   "language": "python",
   "name": "python3"
  },
  "language_info": {
   "codemirror_mode": {
    "name": "ipython",
    "version": 3
   },
   "file_extension": ".py",
   "mimetype": "text/x-python",
   "name": "python",
   "nbconvert_exporter": "python",
   "pygments_lexer": "ipython3",
   "version": "3.10.8"
  }
 },
 "nbformat": 4,
 "nbformat_minor": 5
}
